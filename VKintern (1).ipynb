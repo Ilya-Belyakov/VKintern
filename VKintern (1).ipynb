{
  "cells": [
    {
      "cell_type": "code",
      "execution_count": 1,
      "metadata": {
        "colab": {
          "base_uri": "https://localhost:8080/"
        },
        "id": "MlVZ3zEbgnbr",
        "outputId": "835001e3-f68a-49f8-ba62-1f5dd4986f11"
      },
      "outputs": [
        {
          "output_type": "stream",
          "name": "stdout",
          "text": [
            "Drive already mounted at /content/drive; to attempt to forcibly remount, call drive.mount(\"/content/drive\", force_remount=True).\n"
          ]
        }
      ],
      "source": [
        "from google.colab import drive\n",
        "drive.mount('/content/drive')\n",
        "from sklearn.metrics import ndcg_score # метрика\n",
        "from sklearn.preprocessing import OneHotEncoder # Для query_id\n",
        "import os,random\n",
        "import numpy as np\n",
        "import matplotlib.pyplot as plt\n",
        "import pandas as pd\n",
        "from keras.losses import categorical_crossentropy\n",
        "import tensorflow as tf\n",
        "from tensorflow.keras.models import load_model\n",
        "from tensorflow.keras.layers import Dropout, Dense, Input, concatenate, BatchNormalization\n",
        "from tensorflow.keras import Model\n",
        "from tensorflow.keras.optimizers import Adam\n",
        "from tensorflow.keras import utils"
      ]
    },
    {
      "cell_type": "code",
      "execution_count": 2,
      "metadata": {
        "id": "g4iqlQ9uiwK1",
        "colab": {
          "base_uri": "https://localhost:8080/"
        },
        "outputId": "286e3c77-c07c-45e0-e62b-60948e706b57"
      },
      "outputs": [
        {
          "output_type": "execute_result",
          "data": {
            "text/plain": [
              "Index(['rank', 'query_id', 'feature_0', 'feature_1', 'feature_2', 'feature_3',\n",
              "       'feature_4', 'feature_5', 'feature_6', 'feature_7',\n",
              "       ...\n",
              "       'feature_134', 'feature_135', 'feature_136', 'feature_137',\n",
              "       'feature_138', 'feature_139', 'feature_140', 'feature_141',\n",
              "       'feature_142', 'feature_143'],\n",
              "      dtype='object', length=146)"
            ]
          },
          "metadata": {},
          "execution_count": 2
        }
      ],
      "source": [
        "path = 'drive/MyDrive/Colab Notebooks/VKintern/'\n",
        "file_name = 'intern_task.csv'\n",
        "df = pd.read_csv(path+file_name)\n",
        "df.keys()"
      ]
    },
    {
      "cell_type": "code",
      "execution_count": 3,
      "metadata": {
        "id": "2X7YiSqkQV8E",
        "colab": {
          "base_uri": "https://localhost:8080/"
        },
        "outputId": "56ffc8db-eb1d-482d-8e37-b1c790e3bc15"
      },
      "outputs": [
        {
          "output_type": "execute_result",
          "data": {
            "text/plain": [
              "2000"
            ]
          },
          "metadata": {},
          "execution_count": 3
        }
      ],
      "source": [
        "data = df.values\n",
        "len(set(data[:,1])) # Количество разных запросов"
      ]
    },
    {
      "cell_type": "code",
      "execution_count": 4,
      "metadata": {
        "id": "vxswemK0lQNj"
      },
      "outputs": [],
      "source": [
        "np.random.shuffle(data) # Перемешивание"
      ]
    },
    {
      "cell_type": "code",
      "execution_count": 5,
      "metadata": {
        "colab": {
          "base_uri": "https://localhost:8080/"
        },
        "id": "nI4LAFIdWhzB",
        "outputId": "60b2d5f2-9956-4210-f5ad-823bddcd3de5"
      },
      "outputs": [
        {
          "output_type": "execute_result",
          "data": {
            "text/plain": [
              "((235258, 144), (235258,), (235258,))"
            ]
          },
          "metadata": {},
          "execution_count": 5
        }
      ],
      "source": [
        "# Разделение таблицы на фичи, ранги и id запросов\n",
        "def divide_info(a):\n",
        "  return a[:,2:],a[:,0],a[:,1]\n",
        "x, rank, qi = divide_info(data)\n",
        "x.shape, rank.shape, qi.shape"
      ]
    },
    {
      "cell_type": "markdown",
      "source": [
        "Анализ датасета"
      ],
      "metadata": {
        "id": "oxJrttVyOl2_"
      }
    },
    {
      "cell_type": "code",
      "execution_count": 6,
      "metadata": {
        "colab": {
          "base_uri": "https://localhost:8080/"
        },
        "id": "a_r7VwHRE-DR",
        "outputId": "4955f880-590a-4328-b6a7-a738511de7bf"
      },
      "outputs": [
        {
          "output_type": "stream",
          "name": "stdout",
          "text": [
            "Распределение рангов: {'0': 121521, '1': 75815, '2': 31910, '3': 4209, '4': 1803}\n",
            "Число запросов с количеством наборов фичей меньше 20: 75\n"
          ]
        }
      ],
      "source": [
        "d = {'0':0,'1':0,'2':0,'3':0,'4':0}\n",
        "for i in rank:\n",
        "  d[str(int(i))]+=1\n",
        "print('Распределение рангов:',d)\n",
        "d = {str(i):0 for i in set(data[:,1])}\n",
        "for i in qi:\n",
        "  d[str(i)]+=1\n",
        "k=0\n",
        "for i in d.keys():\n",
        "  if d[i]<20:\n",
        "    k+=1\n",
        "print('Число запросов с количеством наборов фичей меньше 20:',k)"
      ]
    },
    {
      "cell_type": "code",
      "execution_count": 7,
      "metadata": {
        "colab": {
          "base_uri": "https://localhost:8080/"
        },
        "id": "PT4vf5HSbAFD",
        "outputId": "d4525713-4af6-45e2-ace1-e147709fa3a6"
      },
      "outputs": [
        {
          "output_type": "stream",
          "name": "stderr",
          "text": [
            "/usr/local/lib/python3.10/dist-packages/sklearn/preprocessing/_encoders.py:868: FutureWarning: `sparse` was renamed to `sparse_output` in version 1.2 and will be removed in 1.4. `sparse_output` is ignored unless you leave `sparse` to its default value.\n",
            "  warnings.warn(\n"
          ]
        },
        {
          "output_type": "stream",
          "name": "stdout",
          "text": [
            "(235258, 2000) (235258, 5)\n"
          ]
        },
        {
          "output_type": "stream",
          "name": "stderr",
          "text": [
            "/usr/local/lib/python3.10/dist-packages/sklearn/preprocessing/_encoders.py:868: FutureWarning: `sparse` was renamed to `sparse_output` in version 1.2 and will be removed in 1.4. `sparse_output` is ignored unless you leave `sparse` to its default value.\n",
            "  warnings.warn(\n"
          ]
        }
      ],
      "source": [
        "# Ранги и запросы переходят в вид векторов OneHotEncoder\n",
        "vector = qi.reshape(-1, 1)\n",
        "encoder = OneHotEncoder(sparse=False)\n",
        "encoder.fit(vector)\n",
        "qi = encoder.transform(vector)\n",
        "vector = rank.reshape(-1,1)\n",
        "rank = encoder.fit(vector).transform(vector)\n",
        "print(qi.shape,rank.shape)"
      ]
    },
    {
      "cell_type": "code",
      "execution_count": 8,
      "metadata": {
        "id": "QrCmVw7YklFo",
        "colab": {
          "base_uri": "https://localhost:8080/"
        },
        "outputId": "e0059b7c-0c61-475c-f45d-dd2fbfac80a5"
      },
      "outputs": [
        {
          "output_type": "execute_result",
          "data": {
            "text/plain": [
              "((16000, 5), (219258, 5))"
            ]
          },
          "metadata": {},
          "execution_count": 8
        }
      ],
      "source": [
        "# Разделение тестовой и тренировочной выборок\n",
        "# 2000 уникальных запросов повторятся 8 раза среди 16000 запросов тестовой выборки\n",
        "tx = x[:16000]\n",
        "tqi = qi[:16000]\n",
        "trank = rank[:16000]\n",
        "x = x[16000:]\n",
        "qi = qi[16000:]\n",
        "rank = rank[16000:]\n",
        "trank.shape, rank.shape # Размеры выборок"
      ]
    },
    {
      "cell_type": "code",
      "execution_count": 16,
      "metadata": {
        "colab": {
          "base_uri": "https://localhost:8080/"
        },
        "id": "LfQWGgoIkpL3",
        "outputId": "217026da-bb89-434b-bf49-612eaca77cd6"
      },
      "outputs": [
        {
          "output_type": "stream",
          "name": "stdout",
          "text": [
            "Число параметров: 219125\n"
          ]
        }
      ],
      "source": [
        "In_query = Input((2000,))\n",
        "In_features = Input((144,))\n",
        "features = Dense(1024,activation='sigmoid')(In_features)\n",
        "features = BatchNormalization()(features)\n",
        "features = Dense(32,activation='relu')(features)\n",
        "query = Dense(16,activation='relu')(In_query)\n",
        "fin = concatenate([features,query])\n",
        "fin = Dense(32,activation='relu')(fin)\n",
        "fin = Dense(5,activation='softmax')(fin)\n",
        "model = Model([In_query,In_features],fin)\n",
        "model.compile(loss='categorical_crossentropy',optimizer=Adam(0.0003),metrics=[tf.keras.metrics.Precision(),tf.keras.metrics.F1Score()])\n",
        "print('Число параметров:',\n",
        "      sum([np.array(i).reshape(-1).shape[0] for i in model.weights]))"
      ]
    },
    {
      "cell_type": "code",
      "source": [
        "utils.plot_model(model)"
      ],
      "metadata": {
        "colab": {
          "base_uri": "https://localhost:8080/",
          "height": 661
        },
        "id": "oIutsEJsz57n",
        "outputId": "db844d7d-d380-4744-ffa1-826b1ea1a365"
      },
      "execution_count": 10,
      "outputs": [
        {
          "output_type": "execute_result",
          "data": {
            "image/png": "[encoded data removed]",
            "text/plain": [
              "<IPython.core.display.Image object>"
            ]
          },
          "metadata": {},
          "execution_count": 10
        }
      ]
    },
    {
      "cell_type": "code",
      "execution_count": 17,
      "metadata": {
        "colab": {
          "base_uri": "https://localhost:8080/"
        },
        "id": "OzE8GZ-Po2Oo",
        "outputId": "83da5dbc-f5d4-4e67-e75a-92a2f3615606"
      },
      "outputs": [
        {
          "output_type": "stream",
          "name": "stdout",
          "text": [
            "Epoch 1/40\n",
            "13/13 [==============================] - 5s 191ms/step - loss: 1.4663 - precision_1: 0.3059 - f1_score: 0.1800 - val_loss: 1.2363 - val_precision_1: 0.5152 - val_f1_score: 0.1423\n",
            "Epoch 2/40\n",
            "13/13 [==============================] - 2s 132ms/step - loss: 1.2139 - precision_1: 0.5337 - f1_score: 0.1606 - val_loss: 1.5458 - val_precision_1: 0.5172 - val_f1_score: 0.1409\n",
            "Epoch 3/40\n",
            "13/13 [==============================] - 1s 117ms/step - loss: 1.1296 - precision_1: 0.5383 - f1_score: 0.1461 - val_loss: 1.5034 - val_precision_1: 0.5166 - val_f1_score: 0.1403\n",
            "Epoch 4/40\n",
            "13/13 [==============================] - 2s 171ms/step - loss: 1.1034 - precision_1: 0.5388 - f1_score: 0.1417 - val_loss: 1.4183 - val_precision_1: 0.5163 - val_f1_score: 0.1415\n",
            "Epoch 5/40\n",
            "13/13 [==============================] - 2s 176ms/step - loss: 1.0944 - precision_1: 0.5432 - f1_score: 0.1417 - val_loss: 1.4477 - val_precision_1: 0.5163 - val_f1_score: 0.1405\n",
            "Epoch 6/40\n",
            "13/13 [==============================] - 1s 118ms/step - loss: 1.0891 - precision_1: 0.5401 - f1_score: 0.1429 - val_loss: 1.3743 - val_precision_1: 0.5162 - val_f1_score: 0.1402\n",
            "Epoch 7/40\n",
            "13/13 [==============================] - 1s 115ms/step - loss: 1.0848 - precision_1: 0.5494 - f1_score: 0.1422 - val_loss: 1.3383 - val_precision_1: 0.5158 - val_f1_score: 0.1391\n",
            "Epoch 8/40\n",
            "13/13 [==============================] - 2s 127ms/step - loss: 1.0833 - precision_1: 0.5673 - f1_score: 0.1420 - val_loss: 1.3242 - val_precision_1: 0.5153 - val_f1_score: 0.1385\n",
            "Epoch 9/40\n",
            "13/13 [==============================] - 1s 114ms/step - loss: 1.0801 - precision_1: 0.5665 - f1_score: 0.1415 - val_loss: 1.3044 - val_precision_1: 0.5152 - val_f1_score: 0.1376\n",
            "Epoch 10/40\n",
            "13/13 [==============================] - 2s 124ms/step - loss: 1.0773 - precision_1: 0.5759 - f1_score: 0.1423 - val_loss: 1.2671 - val_precision_1: 0.5152 - val_f1_score: 0.1374\n",
            "Epoch 11/40\n",
            "13/13 [==============================] - 2s 127ms/step - loss: 1.0742 - precision_1: 0.5850 - f1_score: 0.1419 - val_loss: 1.2441 - val_precision_1: 0.5155 - val_f1_score: 0.1372\n",
            "Epoch 12/40\n",
            "13/13 [==============================] - 2s 151ms/step - loss: 1.0707 - precision_1: 0.5910 - f1_score: 0.1414 - val_loss: 1.1987 - val_precision_1: 0.5155 - val_f1_score: 0.1376\n",
            "Epoch 13/40\n",
            "13/13 [==============================] - 2s 171ms/step - loss: 1.0673 - precision_1: 0.6143 - f1_score: 0.1421 - val_loss: 1.1894 - val_precision_1: 0.5161 - val_f1_score: 0.1370\n",
            "Epoch 14/40\n",
            "13/13 [==============================] - 2s 143ms/step - loss: 1.0637 - precision_1: 0.6108 - f1_score: 0.1461 - val_loss: 1.1647 - val_precision_1: 0.5171 - val_f1_score: 0.1373\n",
            "Epoch 15/40\n",
            "13/13 [==============================] - 2s 126ms/step - loss: 1.0590 - precision_1: 0.6222 - f1_score: 0.1490 - val_loss: 1.1439 - val_precision_1: 0.5190 - val_f1_score: 0.1372\n",
            "Epoch 16/40\n",
            "13/13 [==============================] - 1s 118ms/step - loss: 1.0548 - precision_1: 0.6383 - f1_score: 0.1548 - val_loss: 1.1198 - val_precision_1: 0.5187 - val_f1_score: 0.1372\n",
            "Epoch 17/40\n",
            "13/13 [==============================] - 1s 117ms/step - loss: 1.0491 - precision_1: 0.6450 - f1_score: 0.1624 - val_loss: 1.1027 - val_precision_1: 0.5283 - val_f1_score: 0.1374\n",
            "Epoch 18/40\n",
            "13/13 [==============================] - 1s 118ms/step - loss: 1.0440 - precision_1: 0.6534 - f1_score: 0.1655 - val_loss: 1.0872 - val_precision_1: 0.5356 - val_f1_score: 0.1402\n",
            "Epoch 19/40\n",
            "13/13 [==============================] - 2s 130ms/step - loss: 1.0386 - precision_1: 0.6593 - f1_score: 0.1813 - val_loss: 1.0727 - val_precision_1: 0.5502 - val_f1_score: 0.1399\n",
            "Epoch 20/40\n",
            "13/13 [==============================] - 2s 120ms/step - loss: 1.0327 - precision_1: 0.6621 - f1_score: 0.1955 - val_loss: 1.0640 - val_precision_1: 0.5799 - val_f1_score: 0.1595\n",
            "Epoch 21/40\n",
            "13/13 [==============================] - 2s 169ms/step - loss: 1.0276 - precision_1: 0.6710 - f1_score: 0.2059 - val_loss: 1.0522 - val_precision_1: 0.6158 - val_f1_score: 0.2005\n",
            "Epoch 22/40\n",
            "13/13 [==============================] - 2s 180ms/step - loss: 1.0232 - precision_1: 0.6709 - f1_score: 0.2143 - val_loss: 1.0521 - val_precision_1: 0.5898 - val_f1_score: 0.1737\n",
            "Epoch 23/40\n",
            "13/13 [==============================] - 1s 118ms/step - loss: 1.0184 - precision_1: 0.6738 - f1_score: 0.2195 - val_loss: 1.0387 - val_precision_1: 0.6163 - val_f1_score: 0.1973\n",
            "Epoch 24/40\n",
            "13/13 [==============================] - 1s 115ms/step - loss: 1.0133 - precision_1: 0.6789 - f1_score: 0.2257 - val_loss: 1.0274 - val_precision_1: 0.6340 - val_f1_score: 0.2111\n",
            "Epoch 25/40\n",
            "13/13 [==============================] - 2s 130ms/step - loss: 1.0087 - precision_1: 0.6762 - f1_score: 0.2277 - val_loss: 1.0233 - val_precision_1: 0.6318 - val_f1_score: 0.2137\n",
            "Epoch 26/40\n",
            "13/13 [==============================] - 1s 119ms/step - loss: 1.0051 - precision_1: 0.6757 - f1_score: 0.2316 - val_loss: 1.0116 - val_precision_1: 0.6555 - val_f1_score: 0.2269\n",
            "Epoch 27/40\n",
            "13/13 [==============================] - 2s 129ms/step - loss: 1.0027 - precision_1: 0.6764 - f1_score: 0.2315 - val_loss: 1.0104 - val_precision_1: 0.6398 - val_f1_score: 0.2284\n",
            "Epoch 28/40\n",
            "13/13 [==============================] - 2s 129ms/step - loss: 0.9999 - precision_1: 0.6734 - f1_score: 0.2328 - val_loss: 1.0089 - val_precision_1: 0.6346 - val_f1_score: 0.2269\n",
            "Epoch 29/40\n",
            "13/13 [==============================] - 2s 193ms/step - loss: 0.9978 - precision_1: 0.6719 - f1_score: 0.2327 - val_loss: 1.0126 - val_precision_1: 0.6234 - val_f1_score: 0.2242\n",
            "Epoch 30/40\n",
            "13/13 [==============================] - 2s 163ms/step - loss: 0.9968 - precision_1: 0.6665 - f1_score: 0.2343 - val_loss: 1.0062 - val_precision_1: 0.6304 - val_f1_score: 0.2288\n",
            "Epoch 31/40\n",
            "13/13 [==============================] - 2s 127ms/step - loss: 0.9954 - precision_1: 0.6689 - f1_score: 0.2343 - val_loss: 1.0050 - val_precision_1: 0.6467 - val_f1_score: 0.2205\n",
            "Epoch 32/40\n",
            "13/13 [==============================] - 2s 127ms/step - loss: 0.9935 - precision_1: 0.6662 - f1_score: 0.2346 - val_loss: 0.9983 - val_precision_1: 0.6625 - val_f1_score: 0.2235\n",
            "Epoch 33/40\n",
            "13/13 [==============================] - 2s 125ms/step - loss: 0.9917 - precision_1: 0.6690 - f1_score: 0.2353 - val_loss: 0.9955 - val_precision_1: 0.6727 - val_f1_score: 0.2283\n",
            "Epoch 34/40\n",
            "13/13 [==============================] - 1s 117ms/step - loss: 0.9900 - precision_1: 0.6694 - f1_score: 0.2350 - val_loss: 0.9952 - val_precision_1: 0.6697 - val_f1_score: 0.2301\n",
            "Epoch 35/40\n",
            "13/13 [==============================] - 1s 118ms/step - loss: 0.9897 - precision_1: 0.6678 - f1_score: 0.2361 - val_loss: 0.9946 - val_precision_1: 0.6709 - val_f1_score: 0.2298\n",
            "Epoch 36/40\n",
            "13/13 [==============================] - 2s 127ms/step - loss: 0.9888 - precision_1: 0.6698 - f1_score: 0.2358 - val_loss: 0.9969 - val_precision_1: 0.6659 - val_f1_score: 0.2322\n",
            "Epoch 37/40\n",
            "13/13 [==============================] - 2s 157ms/step - loss: 0.9879 - precision_1: 0.6700 - f1_score: 0.2364 - val_loss: 0.9963 - val_precision_1: 0.6486 - val_f1_score: 0.2341\n",
            "Epoch 38/40\n",
            "13/13 [==============================] - 2s 193ms/step - loss: 0.9874 - precision_1: 0.6713 - f1_score: 0.2363 - val_loss: 0.9939 - val_precision_1: 0.6512 - val_f1_score: 0.2301\n",
            "Epoch 39/40\n",
            "13/13 [==============================] - 2s 120ms/step - loss: 0.9860 - precision_1: 0.6687 - f1_score: 0.2372 - val_loss: 0.9943 - val_precision_1: 0.6648 - val_f1_score: 0.2259\n",
            "Epoch 40/40\n",
            "13/13 [==============================] - 1s 96ms/step - loss: 0.9853 - precision_1: 0.6707 - f1_score: 0.2371 - val_loss: 0.9935 - val_precision_1: 0.6602 - val_f1_score: 0.2270\n"
          ]
        }
      ],
      "source": [
        "h = model.fit([qi,x],rank,\n",
        "              batch_size=16000,     # Батч порядка количества запросов\n",
        "              epochs = 40,\n",
        "              validation_split=0.1) # Тренировка с валидационной выборкой"
      ]
    },
    {
      "cell_type": "code",
      "execution_count": 18,
      "metadata": {
        "colab": {
          "base_uri": "https://localhost:8080/",
          "height": 472
        },
        "id": "ca-gtCgNN8US",
        "outputId": "6d957de2-c095-4e25-ab45-2c1c0f00e06e"
      },
      "outputs": [
        {
          "output_type": "display_data",
          "data": {
            "text/plain": [
              "<Figure size 640x480 with 1 Axes>"
            ],
            "image/png": "[encoded data removed]"
          },
          "metadata": {}
        }
      ],
      "source": [
        "# Визуализация процесса обучения\n",
        "history_dict = h.history\n",
        "loss_values = history_dict['loss']\n",
        "val_loss_values = history_dict['val_loss']\n",
        "epochs = range(1, len(loss_values) + 1)\n",
        "plt.plot(epochs, loss_values, label='Training loss')\n",
        "plt.plot(epochs, val_loss_values, label='Validation loss')\n",
        "plt.title('Training and validation loss')\n",
        "plt.xlabel('Epochs')\n",
        "plt.ylabel('Loss')\n",
        "plt.legend()\n",
        "plt.show()"
      ]
    },
    {
      "cell_type": "code",
      "execution_count": 19,
      "metadata": {
        "colab": {
          "base_uri": "https://localhost:8080/"
        },
        "id": "JFTeE8h6h8by",
        "outputId": "aaded32b-c50f-4a1f-ee6f-3f1697d7ae8c"
      },
      "outputs": [
        {
          "output_type": "stream",
          "name": "stdout",
          "text": [
            "500/500 [==============================] - 1s 2ms/step\n"
          ]
        }
      ],
      "source": [
        "p = model.predict([tqi,tx])  # Предсказание тестовой выборки"
      ]
    },
    {
      "cell_type": "code",
      "execution_count": 20,
      "metadata": {
        "colab": {
          "base_uri": "https://localhost:8080/"
        },
        "id": "yXPMg8Tz_19u",
        "outputId": "f401b1a6-8aa6-4f76-a5dd-b6c40b083e55"
      },
      "outputs": [
        {
          "output_type": "stream",
          "name": "stdout",
          "text": [
            "81.46 %\n"
          ]
        }
      ],
      "source": [
        "# Расчет матрики ndcg_5b на тестовой выборке\n",
        "y_true = trank\n",
        "y_score = p\n",
        "score = ndcg_score(y_true, y_score, k=5)\n",
        "print(np.round(score*10000)/100,'%')"
      ]
    },
    {
      "cell_type": "code",
      "execution_count": 15,
      "metadata": {
        "colab": {
          "base_uri": "https://localhost:8080/"
        },
        "id": "dGM5yFHIhsKQ",
        "outputId": "3c7be7a1-1605-4305-f126-af6a83aca650"
      },
      "outputs": [
        {
          "output_type": "stream",
          "name": "stdout",
          "text": [
            "Prediction    [0. 1. 0. 0. 0.] [1. 0. 0. 0. 0.] [0. 1. 0. 0. 0.] [0. 1. 0. 0. 0.] [0. 1. 0. 0. 0.] [1. 0. 0. 0. 0.] [0. 1. 0. 0. 0.] [1. 0. 0. 0. 0.] [1. 0. 0. 0. 0.] [1. 0. 0. 0. 0.]\n",
            "Original rank [1. 0. 0. 0. 0.] [1. 0. 0. 0. 0.] [1. 0. 0. 0. 0.] [1. 0. 0. 0. 0.] [1. 0. 0. 0. 0.] [0. 0. 1. 0. 0.] [1. 0. 0. 0. 0.] [1. 0. 0. 0. 0.] [0. 1. 0. 0. 0.] [0. 1. 0. 0. 0.]\n"
          ]
        }
      ],
      "source": [
        "# Ранжирование модели ndcg5\n",
        "for i in p:\n",
        "  for k,j in enumerate(i):\n",
        "    if j==max(i):\n",
        "      i[k] = 1.\n",
        "p = np.round(p)\n",
        "z = random.randint(1,len(trank))\n",
        "print('Prediction   ',*p[z:z+10])\n",
        "print('Original rank',*rank[z:z+10])"
      ]
    }
  ],
  "metadata": {
    "accelerator": "GPU",
    "colab": {
      "gpuType": "T4",
      "provenance": []
    },
    "kernelspec": {
      "display_name": "Python 3",
      "name": "python3"
    },
    "language_info": {
      "name": "python"
    }
  },
  "nbformat": 4,
  "nbformat_minor": 0
}