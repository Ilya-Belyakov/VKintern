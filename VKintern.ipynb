{
  "cells": [
    {
      "cell_type": "markdown",
      "metadata": {
        "id": "25dlMKuvZKK1"
      },
      "source": [
        "# Preparing"
      ]
    },
    {
      "cell_type": "code",
      "execution_count": 1,
      "metadata": {
        "colab": {
          "base_uri": "https://localhost:8080/"
        },
        "id": "MlVZ3zEbgnbr",
        "outputId": "835001e3-f68a-49f8-ba62-1f5dd4986f11"
      },
      "outputs": [
        {
          "output_type": "stream",
          "name": "stdout",
          "text": [
            "Drive already mounted at /content/drive; to attempt to forcibly remount, call drive.mount(\"/content/drive\", force_remount=True).\n"
          ]
        }
      ],
      "source": [
        "from google.colab import drive\n",
        "drive.mount('/content/drive')\n",
        "from sklearn.metrics import ndcg_score # метрика\n",
        "from sklearn.preprocessing import OneHotEncoder # Для query_id\n",
        "import os,random\n",
        "import numpy as np\n",
        "import matplotlib.pyplot as plt\n",
        "import pandas as pd\n",
        "from keras.losses import categorical_crossentropy\n",
        "import tensorflow as tf\n",
        "from tensorflow.keras.models import load_model\n",
        "from tensorflow.keras.layers import Dropout, Dense, Input, concatenate, BatchNormalization\n",
        "from tensorflow.keras import Model\n",
        "from tensorflow.keras.optimizers import Adam\n",
        "from tensorflow.keras import utils"
      ]
    },
    {
      "cell_type": "code",
      "execution_count": 2,
      "metadata": {
        "id": "g4iqlQ9uiwK1",
        "colab": {
          "base_uri": "https://localhost:8080/"
        },
        "outputId": "286e3c77-c07c-45e0-e62b-60948e706b57"
      },
      "outputs": [
        {
          "output_type": "execute_result",
          "data": {
            "text/plain": [
              "Index(['rank', 'query_id', 'feature_0', 'feature_1', 'feature_2', 'feature_3',\n",
              "       'feature_4', 'feature_5', 'feature_6', 'feature_7',\n",
              "       ...\n",
              "       'feature_134', 'feature_135', 'feature_136', 'feature_137',\n",
              "       'feature_138', 'feature_139', 'feature_140', 'feature_141',\n",
              "       'feature_142', 'feature_143'],\n",
              "      dtype='object', length=146)"
            ]
          },
          "metadata": {},
          "execution_count": 2
        }
      ],
      "source": [
        "path = 'drive/MyDrive/Colab Notebooks/VKintern/'\n",
        "file_name = 'intern_task.csv'\n",
        "df = pd.read_csv(path+file_name)\n",
        "df.keys()"
      ]
    },
    {
      "cell_type": "code",
      "execution_count": 3,
      "metadata": {
        "id": "2X7YiSqkQV8E",
        "colab": {
          "base_uri": "https://localhost:8080/"
        },
        "outputId": "56ffc8db-eb1d-482d-8e37-b1c790e3bc15"
      },
      "outputs": [
        {
          "output_type": "execute_result",
          "data": {
            "text/plain": [
              "2000"
            ]
          },
          "metadata": {},
          "execution_count": 3
        }
      ],
      "source": [
        "data = df.values\n",
        "len(set(data[:,1])) # Количество разных запросов"
      ]
    },
    {
      "cell_type": "code",
      "execution_count": 4,
      "metadata": {
        "id": "vxswemK0lQNj"
      },
      "outputs": [],
      "source": [
        "np.random.shuffle(data) # Перемешивание"
      ]
    },
    {
      "cell_type": "code",
      "execution_count": 5,
      "metadata": {
        "colab": {
          "base_uri": "https://localhost:8080/"
        },
        "id": "nI4LAFIdWhzB",
        "outputId": "60b2d5f2-9956-4210-f5ad-823bddcd3de5"
      },
      "outputs": [
        {
          "output_type": "execute_result",
          "data": {
            "text/plain": [
              "((235258, 144), (235258,), (235258,))"
            ]
          },
          "metadata": {},
          "execution_count": 5
        }
      ],
      "source": [
        "# Разделение таблицы на фичи, ранги и id запросов\n",
        "def divide_info(a):\n",
        "  return a[:,2:],a[:,0],a[:,1]\n",
        "x, rank, qi = divide_info(data)\n",
        "x.shape, rank.shape, qi.shape"
      ]
    },
    {
      "cell_type": "markdown",
      "source": [
        "Анализ датасета"
      ],
      "metadata": {
        "id": "oxJrttVyOl2_"
      }
    },
    {
      "cell_type": "code",
      "execution_count": 6,
      "metadata": {
        "colab": {
          "base_uri": "https://localhost:8080/"
        },
        "id": "a_r7VwHRE-DR",
        "outputId": "4955f880-590a-4328-b6a7-a738511de7bf"
      },
      "outputs": [
        {
          "output_type": "stream",
          "name": "stdout",
          "text": [
            "Распределение рангов: {'0': 121521, '1': 75815, '2': 31910, '3': 4209, '4': 1803}\n",
            "Число запросов с количеством наборов фичей меньше 20: 75\n"
          ]
        }
      ],
      "source": [
        "d = {'0':0,'1':0,'2':0,'3':0,'4':0}\n",
        "for i in rank:\n",
        "  d[str(int(i))]+=1\n",
        "print('Распределение рангов:',d)\n",
        "d = {str(i):0 for i in set(data[:,1])}\n",
        "for i in qi:\n",
        "  d[str(i)]+=1\n",
        "k=0\n",
        "for i in d.keys():\n",
        "  if d[i]<20:\n",
        "    k+=1\n",
        "print('Число запросов с количеством наборов фичей меньше 20:',k)"
      ]
    },
    {
      "cell_type": "code",
      "execution_count": 7,
      "metadata": {
        "colab": {
          "base_uri": "https://localhost:8080/"
        },
        "id": "PT4vf5HSbAFD",
        "outputId": "d4525713-4af6-45e2-ace1-e147709fa3a6"
      },
      "outputs": [
        {
          "output_type": "stream",
          "name": "stderr",
          "text": [
            "/usr/local/lib/python3.10/dist-packages/sklearn/preprocessing/_encoders.py:868: FutureWarning: `sparse` was renamed to `sparse_output` in version 1.2 and will be removed in 1.4. `sparse_output` is ignored unless you leave `sparse` to its default value.\n",
            "  warnings.warn(\n"
          ]
        },
        {
          "output_type": "stream",
          "name": "stdout",
          "text": [
            "(235258, 2000) (235258, 5)\n"
          ]
        },
        {
          "output_type": "stream",
          "name": "stderr",
          "text": [
            "/usr/local/lib/python3.10/dist-packages/sklearn/preprocessing/_encoders.py:868: FutureWarning: `sparse` was renamed to `sparse_output` in version 1.2 and will be removed in 1.4. `sparse_output` is ignored unless you leave `sparse` to its default value.\n",
            "  warnings.warn(\n"
          ]
        }
      ],
      "source": [
        "# Ранги и запросы переходят в вид векторов OneHotEncoder\n",
        "vector = qi.reshape(-1, 1)\n",
        "encoder = OneHotEncoder(sparse=False)\n",
        "encoder.fit(vector)\n",
        "qi = encoder.transform(vector)\n",
        "vector = rank.reshape(-1,1)\n",
        "rank = encoder.fit(vector).transform(vector)\n",
        "print(qi.shape,rank.shape)"
      ]
    },
    {
      "cell_type": "code",
      "execution_count": 8,
      "metadata": {
        "id": "QrCmVw7YklFo",
        "colab": {
          "base_uri": "https://localhost:8080/"
        },
        "outputId": "e0059b7c-0c61-475c-f45d-dd2fbfac80a5"
      },
      "outputs": [
        {
          "output_type": "execute_result",
          "data": {
            "text/plain": [
              "((16000, 5), (219258, 5))"
            ]
          },
          "metadata": {},
          "execution_count": 8
        }
      ],
      "source": [
        "# Разделение тестовой и тренировочной выборок\n",
        "# 2000 уникальных запросов повторятся 8 раза среди 16000 запросов тестовой выборки\n",
        "tx = x[:16000]\n",
        "tqi = qi[:16000]\n",
        "trank = rank[:16000]\n",
        "x = x[16000:]\n",
        "qi = qi[16000:]\n",
        "rank = rank[16000:]\n",
        "trank.shape, rank.shape # Размеры выборок"
      ]
    },
    {
      "cell_type": "code",
      "execution_count": 9,
      "metadata": {
        "colab": {
          "base_uri": "https://localhost:8080/"
        },
        "id": "LfQWGgoIkpL3",
        "outputId": "0f948371-d387-4e97-891f-af7de9cedfb7"
      },
      "outputs": [
        {
          "output_type": "stream",
          "name": "stdout",
          "text": [
            "Число параметров: 251653\n"
          ]
        }
      ],
      "source": [
        "In_query = Input((2000,))\n",
        "In_features = Input((144,))\n",
        "features = Dense(1024,activation='sigmoid')(In_features)\n",
        "features = BatchNormalization()(features)\n",
        "features = Dense(32,activation='relu')(features)\n",
        "query = Dense(32,activation='relu')(In_query)\n",
        "fin = concatenate([features,query])\n",
        "fin = Dense(32,activation='relu')(fin)\n",
        "fin = Dense(5,activation='softmax')(fin)\n",
        "model = Model([In_query,In_features],fin)\n",
        "model.compile(loss='categorical_crossentropy',optimizer=Adam(0.0003),metrics=[tf.keras.metrics.Precision(),tf.keras.metrics.F1Score()])\n",
        "print('Число параметров:',\n",
        "      sum([np.array(i).reshape(-1).shape[0] for i in model.weights]))"
      ]
    },
    {
      "cell_type": "code",
      "source": [
        "utils.plot_model(model)"
      ],
      "metadata": {
        "colab": {
          "base_uri": "https://localhost:8080/",
          "height": 661
        },
        "id": "oIutsEJsz57n",
        "outputId": "db844d7d-d380-4744-ffa1-826b1ea1a365"
      },
      "execution_count": 10,
      "outputs": [
        {
          "output_type": "execute_result",
          "data": {
            "image/png": "[encoded data removed]",
            "text/plain": [
              "<IPython.core.display.Image object>"
            ]
          },
          "metadata": {},
          "execution_count": 10
        }
      ]
    },
    {
      "cell_type": "code",
      "execution_count": 11,
      "metadata": {
        "colab": {
          "base_uri": "https://localhost:8080/"
        },
        "id": "OzE8GZ-Po2Oo",
        "outputId": "53e2b328-4720-41d7-de8a-322f5ffc42f2"
      },
      "outputs": [
        {
          "output_type": "stream",
          "name": "stdout",
          "text": [
            "Epoch 1/40\n",
            "13/13 [==============================] - 15s 212ms/step - loss: 1.5632 - precision: 0.4115 - f1_score: 0.1470 - val_loss: 1.4306 - val_precision: 0.3750 - val_f1_score: 0.1017\n",
            "Epoch 2/40\n",
            "13/13 [==============================] - 2s 164ms/step - loss: 1.3758 - precision: 0.5570 - f1_score: 0.1591 - val_loss: 1.3605 - val_precision: 0.3275 - val_f1_score: 0.1133\n",
            "Epoch 3/40\n",
            "13/13 [==============================] - 2s 172ms/step - loss: 1.2538 - precision: 0.5650 - f1_score: 0.1903 - val_loss: 1.3733 - val_precision: 0.5165 - val_f1_score: 0.1408\n",
            "Epoch 4/40\n",
            "13/13 [==============================] - 2s 148ms/step - loss: 1.1728 - precision: 0.5607 - f1_score: 0.1445 - val_loss: 1.2818 - val_precision: 0.5169 - val_f1_score: 0.1393\n",
            "Epoch 5/40\n",
            "13/13 [==============================] - 2s 142ms/step - loss: 1.1206 - precision: 0.5776 - f1_score: 0.1433 - val_loss: 1.2397 - val_precision: 0.5168 - val_f1_score: 0.1389\n",
            "Epoch 6/40\n",
            "13/13 [==============================] - 2s 129ms/step - loss: 1.0967 - precision: 0.5649 - f1_score: 0.1413 - val_loss: 1.2471 - val_precision: 0.5164 - val_f1_score: 0.1382\n",
            "Epoch 7/40\n",
            "13/13 [==============================] - 1s 119ms/step - loss: 1.0864 - precision: 0.5772 - f1_score: 0.1403 - val_loss: 1.2056 - val_precision: 0.5162 - val_f1_score: 0.1388\n",
            "Epoch 8/40\n",
            "13/13 [==============================] - 2s 120ms/step - loss: 1.0807 - precision: 0.5765 - f1_score: 0.1437 - val_loss: 1.1938 - val_precision: 0.5169 - val_f1_score: 0.1383\n",
            "Epoch 9/40\n",
            "13/13 [==============================] - 1s 116ms/step - loss: 1.0763 - precision: 0.5798 - f1_score: 0.1430 - val_loss: 1.1771 - val_precision: 0.5173 - val_f1_score: 0.1383\n",
            "Epoch 10/40\n",
            "13/13 [==============================] - 2s 150ms/step - loss: 1.0715 - precision: 0.6073 - f1_score: 0.1413 - val_loss: 1.1689 - val_precision: 0.5176 - val_f1_score: 0.1383\n",
            "Epoch 11/40\n",
            "13/13 [==============================] - 2s 192ms/step - loss: 1.0672 - precision: 0.6119 - f1_score: 0.1428 - val_loss: 1.1446 - val_precision: 0.5271 - val_f1_score: 0.1398\n",
            "Epoch 12/40\n",
            "13/13 [==============================] - 2s 131ms/step - loss: 1.0631 - precision: 0.6237 - f1_score: 0.1442 - val_loss: 1.1318 - val_precision: 0.5288 - val_f1_score: 0.1393\n",
            "Epoch 13/40\n",
            "13/13 [==============================] - 2s 118ms/step - loss: 1.0579 - precision: 0.6351 - f1_score: 0.1463 - val_loss: 1.1148 - val_precision: 0.5558 - val_f1_score: 0.1497\n",
            "Epoch 14/40\n",
            "13/13 [==============================] - 1s 118ms/step - loss: 1.0521 - precision: 0.6471 - f1_score: 0.1519 - val_loss: 1.1048 - val_precision: 0.5612 - val_f1_score: 0.1535\n",
            "Epoch 15/40\n",
            "13/13 [==============================] - 2s 122ms/step - loss: 1.0467 - precision: 0.6535 - f1_score: 0.1606 - val_loss: 1.0984 - val_precision: 0.5756 - val_f1_score: 0.1661\n",
            "Epoch 16/40\n",
            "13/13 [==============================] - 2s 126ms/step - loss: 1.0406 - precision: 0.6593 - f1_score: 0.1780 - val_loss: 1.0761 - val_precision: 0.5884 - val_f1_score: 0.1743\n",
            "Epoch 17/40\n",
            "13/13 [==============================] - 2s 126ms/step - loss: 1.0339 - precision: 0.6648 - f1_score: 0.1930 - val_loss: 1.0653 - val_precision: 0.6059 - val_f1_score: 0.1882\n",
            "Epoch 18/40\n",
            "13/13 [==============================] - 2s 128ms/step - loss: 1.0274 - precision: 0.6702 - f1_score: 0.2055 - val_loss: 1.0497 - val_precision: 0.6307 - val_f1_score: 0.2070\n",
            "Epoch 19/40\n",
            "13/13 [==============================] - 2s 175ms/step - loss: 1.0215 - precision: 0.6707 - f1_score: 0.2143 - val_loss: 1.0354 - val_precision: 0.6448 - val_f1_score: 0.2202\n",
            "Epoch 20/40\n",
            "13/13 [==============================] - 2s 164ms/step - loss: 1.0159 - precision: 0.6744 - f1_score: 0.2225 - val_loss: 1.0259 - val_precision: 0.6512 - val_f1_score: 0.2184\n",
            "Epoch 21/40\n",
            "13/13 [==============================] - 2s 128ms/step - loss: 1.0108 - precision: 0.6751 - f1_score: 0.2256 - val_loss: 1.0203 - val_precision: 0.6468 - val_f1_score: 0.2113\n",
            "Epoch 22/40\n",
            "13/13 [==============================] - 1s 118ms/step - loss: 1.0065 - precision: 0.6690 - f1_score: 0.2292 - val_loss: 1.0135 - val_precision: 0.6532 - val_f1_score: 0.2241\n",
            "Epoch 23/40\n",
            "13/13 [==============================] - 1s 117ms/step - loss: 1.0017 - precision: 0.6736 - f1_score: 0.2308 - val_loss: 1.0112 - val_precision: 0.6418 - val_f1_score: 0.2281\n",
            "Epoch 24/40\n",
            "13/13 [==============================] - 2s 121ms/step - loss: 0.9989 - precision: 0.6679 - f1_score: 0.2320 - val_loss: 1.0066 - val_precision: 0.6449 - val_f1_score: 0.2235\n",
            "Epoch 25/40\n",
            "13/13 [==============================] - 2s 129ms/step - loss: 0.9967 - precision: 0.6662 - f1_score: 0.2336 - val_loss: 1.0126 - val_precision: 0.6322 - val_f1_score: 0.2093\n",
            "Epoch 26/40\n",
            "13/13 [==============================] - 1s 119ms/step - loss: 0.9946 - precision: 0.6646 - f1_score: 0.2337 - val_loss: 1.0068 - val_precision: 0.6431 - val_f1_score: 0.2143\n",
            "Epoch 27/40\n",
            "13/13 [==============================] - 2s 159ms/step - loss: 0.9920 - precision: 0.6645 - f1_score: 0.2343 - val_loss: 1.0023 - val_precision: 0.6423 - val_f1_score: 0.2180\n",
            "Epoch 28/40\n",
            "13/13 [==============================] - 3s 203ms/step - loss: 0.9901 - precision: 0.6649 - f1_score: 0.2340 - val_loss: 1.0001 - val_precision: 0.6453 - val_f1_score: 0.2167\n",
            "Epoch 29/40\n",
            "13/13 [==============================] - 2s 129ms/step - loss: 0.9884 - precision: 0.6661 - f1_score: 0.2346 - val_loss: 0.9977 - val_precision: 0.6573 - val_f1_score: 0.2231\n",
            "Epoch 30/40\n",
            "13/13 [==============================] - 2s 120ms/step - loss: 0.9869 - precision: 0.6655 - f1_score: 0.2354 - val_loss: 0.9982 - val_precision: 0.6615 - val_f1_score: 0.2203\n",
            "Epoch 31/40\n",
            "13/13 [==============================] - 2s 194ms/step - loss: 0.9852 - precision: 0.6680 - f1_score: 0.2352 - val_loss: 0.9931 - val_precision: 0.6603 - val_f1_score: 0.2260\n",
            "Epoch 32/40\n",
            "13/13 [==============================] - 3s 211ms/step - loss: 0.9838 - precision: 0.6678 - f1_score: 0.2353 - val_loss: 0.9922 - val_precision: 0.6639 - val_f1_score: 0.2280\n",
            "Epoch 33/40\n",
            "13/13 [==============================] - 3s 227ms/step - loss: 0.9833 - precision: 0.6675 - f1_score: 0.2352 - val_loss: 0.9906 - val_precision: 0.6562 - val_f1_score: 0.2319\n",
            "Epoch 34/40\n",
            "13/13 [==============================] - 4s 324ms/step - loss: 0.9822 - precision: 0.6655 - f1_score: 0.2364 - val_loss: 0.9900 - val_precision: 0.6636 - val_f1_score: 0.2349\n",
            "Epoch 35/40\n",
            "13/13 [==============================] - 3s 209ms/step - loss: 0.9808 - precision: 0.6684 - f1_score: 0.2376 - val_loss: 0.9889 - val_precision: 0.6625 - val_f1_score: 0.2337\n",
            "Epoch 36/40\n",
            "13/13 [==============================] - 2s 129ms/step - loss: 0.9798 - precision: 0.6688 - f1_score: 0.2392 - val_loss: 0.9920 - val_precision: 0.6492 - val_f1_score: 0.2288\n",
            "Epoch 37/40\n",
            "13/13 [==============================] - 2s 128ms/step - loss: 0.9792 - precision: 0.6695 - f1_score: 0.2405 - val_loss: 0.9914 - val_precision: 0.6515 - val_f1_score: 0.2309\n",
            "Epoch 38/40\n",
            "13/13 [==============================] - 2s 119ms/step - loss: 0.9781 - precision: 0.6724 - f1_score: 0.2438 - val_loss: 0.9881 - val_precision: 0.6538 - val_f1_score: 0.2347\n",
            "Epoch 39/40\n",
            "13/13 [==============================] - 1s 117ms/step - loss: 0.9772 - precision: 0.6703 - f1_score: 0.2452 - val_loss: 0.9869 - val_precision: 0.6592 - val_f1_score: 0.2372\n",
            "Epoch 40/40\n",
            "13/13 [==============================] - 2s 130ms/step - loss: 0.9765 - precision: 0.6700 - f1_score: 0.2451 - val_loss: 0.9863 - val_precision: 0.6617 - val_f1_score: 0.2406\n"
          ]
        }
      ],
      "source": [
        "h = model.fit([qi,x],rank,\n",
        "              batch_size=16000,     # Батч порядка количества запросов\n",
        "              epochs = 40,\n",
        "              validation_split=0.1) # Тренировка с валидационной выборкой"
      ]
    },
    {
      "cell_type": "code",
      "execution_count": 12,
      "metadata": {
        "colab": {
          "base_uri": "https://localhost:8080/",
          "height": 472
        },
        "id": "ca-gtCgNN8US",
        "outputId": "1e96382a-41a9-4146-d159-026ae29119a4"
      },
      "outputs": [
        {
          "output_type": "display_data",
          "data": {
            "text/plain": [
              "<Figure size 640x480 with 1 Axes>"
            ],
            "image/png": "[encoded data removed]"
          },
          "metadata": {}
        }
      ],
      "source": [
        "# Визуализация процесса обучения\n",
        "history_dict = h.history\n",
        "loss_values = history_dict['loss']\n",
        "val_loss_values = history_dict['val_loss']\n",
        "epochs = range(1, len(loss_values) + 1)\n",
        "plt.plot(epochs, loss_values, label='Training loss')\n",
        "plt.plot(epochs, val_loss_values, label='Validation loss')\n",
        "plt.title('Training and validation loss')\n",
        "plt.xlabel('Epochs')\n",
        "plt.ylabel('Loss')\n",
        "plt.legend()\n",
        "plt.show()"
      ]
    },
    {
      "cell_type": "code",
      "execution_count": 13,
      "metadata": {
        "colab": {
          "base_uri": "https://localhost:8080/"
        },
        "id": "JFTeE8h6h8by",
        "outputId": "c64c1cdc-9a1c-49bf-8d29-4c5dfd435b74"
      },
      "outputs": [
        {
          "output_type": "stream",
          "name": "stdout",
          "text": [
            "500/500 [==============================] - 1s 2ms/step\n"
          ]
        }
      ],
      "source": [
        "p = model.predict([tqi,tx])  # Предсказание тестовой выборки"
      ]
    },
    {
      "cell_type": "code",
      "execution_count": 14,
      "metadata": {
        "colab": {
          "base_uri": "https://localhost:8080/"
        },
        "id": "yXPMg8Tz_19u",
        "outputId": "027035df-1ecb-47e1-ed62-e7ce3e9dc0b0"
      },
      "outputs": [
        {
          "output_type": "stream",
          "name": "stdout",
          "text": [
            "81.64 %\n"
          ]
        }
      ],
      "source": [
        "# Расчет матрики ndcg_5b на тестовой выборке\n",
        "y_true = trank\n",
        "y_score = p\n",
        "score = ndcg_score(y_true, y_score, k=5)\n",
        "print(np.round(score*10000)/100,'%')"
      ]
    },
    {
      "cell_type": "code",
      "execution_count": 15,
      "metadata": {
        "colab": {
          "base_uri": "https://localhost:8080/"
        },
        "id": "dGM5yFHIhsKQ",
        "outputId": "3c7be7a1-1605-4305-f126-af6a83aca650"
      },
      "outputs": [
        {
          "output_type": "stream",
          "name": "stdout",
          "text": [
            "Prediction    [0. 1. 0. 0. 0.] [1. 0. 0. 0. 0.] [0. 1. 0. 0. 0.] [0. 1. 0. 0. 0.] [0. 1. 0. 0. 0.] [1. 0. 0. 0. 0.] [0. 1. 0. 0. 0.] [1. 0. 0. 0. 0.] [1. 0. 0. 0. 0.] [1. 0. 0. 0. 0.]\n",
            "Original rank [1. 0. 0. 0. 0.] [1. 0. 0. 0. 0.] [1. 0. 0. 0. 0.] [1. 0. 0. 0. 0.] [1. 0. 0. 0. 0.] [0. 0. 1. 0. 0.] [1. 0. 0. 0. 0.] [1. 0. 0. 0. 0.] [0. 1. 0. 0. 0.] [0. 1. 0. 0. 0.]\n"
          ]
        }
      ],
      "source": [
        "# Ранжирование модели ndcg5\n",
        "for i in p:\n",
        "  for k,j in enumerate(i):\n",
        "    if j==max(i):\n",
        "      i[k] = 1.\n",
        "p = np.round(p)\n",
        "z = random.randint(1,len(trank))\n",
        "print('Prediction   ',*p[z:z+10])\n",
        "print('Original rank',*rank[z:z+10])"
      ]
    },
    {
      "cell_type": "code",
      "source": [],
      "metadata": {
        "id": "m__LLv5S2dev"
      },
      "execution_count": null,
      "outputs": []
    }
  ],
  "metadata": {
    "accelerator": "GPU",
    "colab": {
      "gpuType": "T4",
      "provenance": []
    },
    "kernelspec": {
      "display_name": "Python 3",
      "name": "python3"
    },
    "language_info": {
      "name": "python"
    }
  },
  "nbformat": 4,
  "nbformat_minor": 0
}